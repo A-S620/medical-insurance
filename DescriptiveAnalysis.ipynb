{
 "cells": [
  {
   "cell_type": "code",
   "execution_count": 22,
   "metadata": {
    "collapsed": true,
    "pycharm": {
     "name": "#%%\n"
    }
   },
   "outputs": [
    {
     "name": "stdout",
     "output_type": "stream",
     "text": [
      "Index(['age', 'sex', 'bmi', 'children', 'smoker', 'region', 'charges'], dtype='object')\n"
     ]
    }
   ],
   "source": [
    "import pandas as pd\n",
    "from shared.DescriptiveStats2 import create_stats\n",
    "\n",
    "df = pd.read_csv('insurance.csv')\n",
    "\n",
    "print(df.columns)\n",
    "descriptiveData = {}"
   ]
  },
  {
   "cell_type": "code",
   "execution_count": 23,
   "outputs": [],
   "source": [
    "ageColumn = df['age']\n",
    "descriptiveData.update(create_stats('age', ageColumn))\n",
    "\n",
    "bmiColumn = df['bmi']\n",
    "descriptiveData.update(create_stats('bmi', bmiColumn))\n",
    "\n",
    "childrenColumn = df['children']\n",
    "descriptiveData.update(create_stats('children', childrenColumn))\n",
    "\n",
    "chargesColumn = df['charges']\n",
    "descriptiveData.update(create_stats('charges', chargesColumn))"
   ],
   "metadata": {
    "collapsed": false,
    "pycharm": {
     "name": "#%%\n"
    }
   }
  },
  {
   "cell_type": "markdown",
   "source": [],
   "metadata": {
    "collapsed": false,
    "pycharm": {
     "name": "#%% md\n"
    }
   }
  },
  {
   "cell_type": "code",
   "execution_count": 24,
   "outputs": [
    {
     "data": {
      "text/plain": "                  mean    median  \\\nage          39.207025    39.000   \nbmi          30.663397    30.400   \nchildren      1.094918     1.000   \ncharges   13270.422265  9382.033   \n\n                                                  mode        range  \\\nage                    0    18\nName: age, dtype: int64     46.00000   \nbmi                0    32.3\nName: bmi, dtype: float64     37.17000   \nchildren           0    0\nName: children, dtype: int64      5.00000   \ncharges   0    1639.5631\nName: charges, dtype: float64  62648.55411   \n\n                   IQR           std           var  \nage          24.000000     14.044709  1.972539e+02  \nbmi           8.397500      6.095908  3.716009e+01  \nchildren      2.000000      1.205042  1.452127e+00  \ncharges   11899.625365  12105.484976  1.465428e+08  ",
      "text/html": "<div>\n<style scoped>\n    .dataframe tbody tr th:only-of-type {\n        vertical-align: middle;\n    }\n\n    .dataframe tbody tr th {\n        vertical-align: top;\n    }\n\n    .dataframe thead th {\n        text-align: right;\n    }\n</style>\n<table border=\"1\" class=\"dataframe\">\n  <thead>\n    <tr style=\"text-align: right;\">\n      <th></th>\n      <th>mean</th>\n      <th>median</th>\n      <th>mode</th>\n      <th>range</th>\n      <th>IQR</th>\n      <th>std</th>\n      <th>var</th>\n    </tr>\n  </thead>\n  <tbody>\n    <tr>\n      <th>age</th>\n      <td>39.207025</td>\n      <td>39.000</td>\n      <td>0    18\nName: age, dtype: int64</td>\n      <td>46.00000</td>\n      <td>24.000000</td>\n      <td>14.044709</td>\n      <td>1.972539e+02</td>\n    </tr>\n    <tr>\n      <th>bmi</th>\n      <td>30.663397</td>\n      <td>30.400</td>\n      <td>0    32.3\nName: bmi, dtype: float64</td>\n      <td>37.17000</td>\n      <td>8.397500</td>\n      <td>6.095908</td>\n      <td>3.716009e+01</td>\n    </tr>\n    <tr>\n      <th>children</th>\n      <td>1.094918</td>\n      <td>1.000</td>\n      <td>0    0\nName: children, dtype: int64</td>\n      <td>5.00000</td>\n      <td>2.000000</td>\n      <td>1.205042</td>\n      <td>1.452127e+00</td>\n    </tr>\n    <tr>\n      <th>charges</th>\n      <td>13270.422265</td>\n      <td>9382.033</td>\n      <td>0    1639.5631\nName: charges, dtype: float64</td>\n      <td>62648.55411</td>\n      <td>11899.625365</td>\n      <td>12105.484976</td>\n      <td>1.465428e+08</td>\n    </tr>\n  </tbody>\n</table>\n</div>"
     },
     "execution_count": 24,
     "metadata": {},
     "output_type": "execute_result"
    }
   ],
   "source": [
    "\n",
    "pd.DataFrame.from_dict(descriptiveData, orient = 'index')"
   ],
   "metadata": {
    "collapsed": false,
    "pycharm": {
     "name": "#%%\n"
    }
   }
  },
  {
   "cell_type": "markdown",
   "source": [],
   "metadata": {
    "collapsed": false,
    "pycharm": {
     "name": "#%% md\n"
    }
   }
  },
  {
   "cell_type": "markdown",
   "source": [],
   "metadata": {
    "collapsed": false,
    "pycharm": {
     "name": "#%% md\n"
    }
   }
  }
 ],
 "metadata": {
  "kernelspec": {
   "display_name": "Python 3",
   "language": "python",
   "name": "python3"
  },
  "language_info": {
   "codemirror_mode": {
    "name": "ipython",
    "version": 2
   },
   "file_extension": ".py",
   "mimetype": "text/x-python",
   "name": "python",
   "nbconvert_exporter": "python",
   "pygments_lexer": "ipython2",
   "version": "2.7.6"
  }
 },
 "nbformat": 4,
 "nbformat_minor": 0
}