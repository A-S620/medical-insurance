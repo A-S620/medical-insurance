{
 "cells": [
  {
   "cell_type": "code",
   "execution_count": 31,
   "metadata": {
    "collapsed": true,
    "pycharm": {
     "name": "#%%\n"
    }
   },
   "outputs": [
    {
     "name": "stdout",
     "output_type": "stream",
     "text": [
      "<class 'pandas.core.frame.DataFrame'>\n",
      "RangeIndex: 1338 entries, 0 to 1337\n",
      "Data columns (total 7 columns):\n",
      " #   Column    Non-Null Count  Dtype  \n",
      "---  ------    --------------  -----  \n",
      " 0   age       1338 non-null   int64  \n",
      " 1   sex       1338 non-null   object \n",
      " 2   bmi       1338 non-null   float64\n",
      " 3   children  1338 non-null   int64  \n",
      " 4   smoker    1338 non-null   object \n",
      " 5   region    1338 non-null   object \n",
      " 6   charges   1338 non-null   float64\n",
      "dtypes: float64(2), int64(2), object(3)\n",
      "memory usage: 73.3+ KB\n"
     ]
    }
   ],
   "source": [
    "import pandas as pd\n",
    "import numpy as np\n",
    "from shared.DescriptiveStats import create_stats\n",
    "\n",
    "df = pd.read_csv('insurance.csv')\n",
    "\n",
    "descriptiveData = {}\n",
    "df.info()"
   ]
  },
  {
   "cell_type": "code",
   "execution_count": 32,
   "outputs": [],
   "source": [
    "ageColumn = df['age']\n",
    "descriptiveData.update(create_stats('age', ageColumn))\n",
    "\n",
    "bmiColumn = df['bmi']\n",
    "descriptiveData.update(create_stats('bmi', bmiColumn))\n",
    "\n",
    "childrenColumn = df['children']\n",
    "descriptiveData.update(create_stats('children', childrenColumn))\n",
    "\n",
    "chargesColumn = df['charges']\n",
    "descriptiveData.update(create_stats('charges', chargesColumn))"
   ],
   "metadata": {
    "collapsed": false,
    "pycharm": {
     "name": "#%%\n"
    }
   }
  },
  {
   "cell_type": "markdown",
   "source": [],
   "metadata": {
    "collapsed": false,
    "pycharm": {
     "name": "#%% md\n"
    }
   }
  },
  {
   "cell_type": "markdown",
   "source": [],
   "metadata": {
    "collapsed": false,
    "pycharm": {
     "name": "#%% md\n"
    }
   }
  },
  {
   "cell_type": "code",
   "execution_count": 33,
   "outputs": [
    {
     "data": {
      "text/plain": "                age   sex          bmi     children smoker     region  \\\ncount   1338.000000  1338  1338.000000  1338.000000   1338       1338   \nunique          NaN     2          NaN          NaN      2          4   \ntop             NaN  male          NaN          NaN     no  southeast   \nfreq            NaN   676          NaN          NaN   1064        364   \nmean      39.207025   NaN    30.663397     1.094918    NaN        NaN   \nstd       14.049960   NaN     6.098187     1.205493    NaN        NaN   \nmin       18.000000   NaN    15.960000     0.000000    NaN        NaN   \n25%       27.000000   NaN    26.296250     0.000000    NaN        NaN   \n50%       39.000000   NaN    30.400000     1.000000    NaN        NaN   \n75%       51.000000   NaN    34.693750     2.000000    NaN        NaN   \nmax       64.000000   NaN    53.130000     5.000000    NaN        NaN   \n\n             charges  \ncount    1338.000000  \nunique           NaN  \ntop              NaN  \nfreq             NaN  \nmean    13270.422265  \nstd     12110.011237  \nmin      1121.873900  \n25%      4740.287150  \n50%      9382.033000  \n75%     16639.912515  \nmax     63770.428010  ",
      "text/html": "<div>\n<style scoped>\n    .dataframe tbody tr th:only-of-type {\n        vertical-align: middle;\n    }\n\n    .dataframe tbody tr th {\n        vertical-align: top;\n    }\n\n    .dataframe thead th {\n        text-align: right;\n    }\n</style>\n<table border=\"1\" class=\"dataframe\">\n  <thead>\n    <tr style=\"text-align: right;\">\n      <th></th>\n      <th>age</th>\n      <th>sex</th>\n      <th>bmi</th>\n      <th>children</th>\n      <th>smoker</th>\n      <th>region</th>\n      <th>charges</th>\n    </tr>\n  </thead>\n  <tbody>\n    <tr>\n      <th>count</th>\n      <td>1338.000000</td>\n      <td>1338</td>\n      <td>1338.000000</td>\n      <td>1338.000000</td>\n      <td>1338</td>\n      <td>1338</td>\n      <td>1338.000000</td>\n    </tr>\n    <tr>\n      <th>unique</th>\n      <td>NaN</td>\n      <td>2</td>\n      <td>NaN</td>\n      <td>NaN</td>\n      <td>2</td>\n      <td>4</td>\n      <td>NaN</td>\n    </tr>\n    <tr>\n      <th>top</th>\n      <td>NaN</td>\n      <td>male</td>\n      <td>NaN</td>\n      <td>NaN</td>\n      <td>no</td>\n      <td>southeast</td>\n      <td>NaN</td>\n    </tr>\n    <tr>\n      <th>freq</th>\n      <td>NaN</td>\n      <td>676</td>\n      <td>NaN</td>\n      <td>NaN</td>\n      <td>1064</td>\n      <td>364</td>\n      <td>NaN</td>\n    </tr>\n    <tr>\n      <th>mean</th>\n      <td>39.207025</td>\n      <td>NaN</td>\n      <td>30.663397</td>\n      <td>1.094918</td>\n      <td>NaN</td>\n      <td>NaN</td>\n      <td>13270.422265</td>\n    </tr>\n    <tr>\n      <th>std</th>\n      <td>14.049960</td>\n      <td>NaN</td>\n      <td>6.098187</td>\n      <td>1.205493</td>\n      <td>NaN</td>\n      <td>NaN</td>\n      <td>12110.011237</td>\n    </tr>\n    <tr>\n      <th>min</th>\n      <td>18.000000</td>\n      <td>NaN</td>\n      <td>15.960000</td>\n      <td>0.000000</td>\n      <td>NaN</td>\n      <td>NaN</td>\n      <td>1121.873900</td>\n    </tr>\n    <tr>\n      <th>25%</th>\n      <td>27.000000</td>\n      <td>NaN</td>\n      <td>26.296250</td>\n      <td>0.000000</td>\n      <td>NaN</td>\n      <td>NaN</td>\n      <td>4740.287150</td>\n    </tr>\n    <tr>\n      <th>50%</th>\n      <td>39.000000</td>\n      <td>NaN</td>\n      <td>30.400000</td>\n      <td>1.000000</td>\n      <td>NaN</td>\n      <td>NaN</td>\n      <td>9382.033000</td>\n    </tr>\n    <tr>\n      <th>75%</th>\n      <td>51.000000</td>\n      <td>NaN</td>\n      <td>34.693750</td>\n      <td>2.000000</td>\n      <td>NaN</td>\n      <td>NaN</td>\n      <td>16639.912515</td>\n    </tr>\n    <tr>\n      <th>max</th>\n      <td>64.000000</td>\n      <td>NaN</td>\n      <td>53.130000</td>\n      <td>5.000000</td>\n      <td>NaN</td>\n      <td>NaN</td>\n      <td>63770.428010</td>\n    </tr>\n  </tbody>\n</table>\n</div>"
     },
     "execution_count": 33,
     "metadata": {},
     "output_type": "execute_result"
    }
   ],
   "source": [
    "df.describe(include='all')"
   ],
   "metadata": {
    "collapsed": false,
    "pycharm": {
     "name": "#%%\n"
    }
   }
  },
  {
   "cell_type": "code",
   "execution_count": 34,
   "outputs": [
    {
     "data": {
      "text/plain": "                  mean    median  \\\nage          39.207025    39.000   \nbmi          30.663397    30.400   \nchildren      1.094918     1.000   \ncharges   13270.422265  9382.033   \n\n                                                  mode        range  \\\nage                    0    18\nName: age, dtype: int64     46.00000   \nbmi                0    32.3\nName: bmi, dtype: float64     37.17000   \nchildren           0    0\nName: children, dtype: int64      5.00000   \ncharges   0    1639.5631\nName: charges, dtype: float64  62648.55411   \n\n                   IQR           std           var  \nage          24.000000     14.044709  1.972539e+02  \nbmi           8.397500      6.095908  3.716009e+01  \nchildren      2.000000      1.205042  1.452127e+00  \ncharges   11899.625365  12105.484976  1.465428e+08  ",
      "text/html": "<div>\n<style scoped>\n    .dataframe tbody tr th:only-of-type {\n        vertical-align: middle;\n    }\n\n    .dataframe tbody tr th {\n        vertical-align: top;\n    }\n\n    .dataframe thead th {\n        text-align: right;\n    }\n</style>\n<table border=\"1\" class=\"dataframe\">\n  <thead>\n    <tr style=\"text-align: right;\">\n      <th></th>\n      <th>mean</th>\n      <th>median</th>\n      <th>mode</th>\n      <th>range</th>\n      <th>IQR</th>\n      <th>std</th>\n      <th>var</th>\n    </tr>\n  </thead>\n  <tbody>\n    <tr>\n      <th>age</th>\n      <td>39.207025</td>\n      <td>39.000</td>\n      <td>0    18\nName: age, dtype: int64</td>\n      <td>46.00000</td>\n      <td>24.000000</td>\n      <td>14.044709</td>\n      <td>1.972539e+02</td>\n    </tr>\n    <tr>\n      <th>bmi</th>\n      <td>30.663397</td>\n      <td>30.400</td>\n      <td>0    32.3\nName: bmi, dtype: float64</td>\n      <td>37.17000</td>\n      <td>8.397500</td>\n      <td>6.095908</td>\n      <td>3.716009e+01</td>\n    </tr>\n    <tr>\n      <th>children</th>\n      <td>1.094918</td>\n      <td>1.000</td>\n      <td>0    0\nName: children, dtype: int64</td>\n      <td>5.00000</td>\n      <td>2.000000</td>\n      <td>1.205042</td>\n      <td>1.452127e+00</td>\n    </tr>\n    <tr>\n      <th>charges</th>\n      <td>13270.422265</td>\n      <td>9382.033</td>\n      <td>0    1639.5631\nName: charges, dtype: float64</td>\n      <td>62648.55411</td>\n      <td>11899.625365</td>\n      <td>12105.484976</td>\n      <td>1.465428e+08</td>\n    </tr>\n  </tbody>\n</table>\n</div>"
     },
     "execution_count": 34,
     "metadata": {},
     "output_type": "execute_result"
    }
   ],
   "source": [
    "pd.DataFrame.from_dict(descriptiveData, orient = 'index')"
   ],
   "metadata": {
    "collapsed": false,
    "pycharm": {
     "name": "#%%\n"
    }
   }
  },
  {
   "cell_type": "markdown",
   "source": [],
   "metadata": {
    "collapsed": false,
    "pycharm": {
     "name": "#%% md\n"
    }
   }
  },
  {
   "cell_type": "markdown",
   "source": [],
   "metadata": {
    "collapsed": false,
    "pycharm": {
     "name": "#%% md\n"
    }
   }
  }
 ],
 "metadata": {
  "kernelspec": {
   "display_name": "Python 3",
   "language": "python",
   "name": "python3"
  },
  "language_info": {
   "codemirror_mode": {
    "name": "ipython",
    "version": 2
   },
   "file_extension": ".py",
   "mimetype": "text/x-python",
   "name": "python",
   "nbconvert_exporter": "python",
   "pygments_lexer": "ipython2",
   "version": "2.7.6"
  }
 },
 "nbformat": 4,
 "nbformat_minor": 0
}