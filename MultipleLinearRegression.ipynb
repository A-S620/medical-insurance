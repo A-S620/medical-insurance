{
 "cells": [
  {
   "cell_type": "markdown",
   "source": [
    "# Multiple Linear Regression\n",
    "This is when 2 or more predictor (independent) variables are used to estimate a response (dependant) variable.\n",
    "Many-to-one relationship.\n",
    "\n",
    "In a MLR model, the coefficient shows the impact on the dependant variable ($y$) if that independent variable ($x1$) is increased by one.\n",
    "Assuming all other variables stay constant\n",
    "\n",
    "## Multicollinearity\n",
    "- Happens when the independent variables depend on each other or influence each other.\n",
    "- This makes it difficult to understand what is causing the results in the dependant variable.\n",
    "- When adding an independent variable consider the relationship between that variable and other independent variables\n",
    "- The best MLR model includes independent variables that are not correlated with each other, only with the dependant variable.\n",
    "\n",
    "## Overfitting\n",
    "- Too many independent variables that expalin teh variance but aren't useful to the model\n",
    "\n"
   ],
   "metadata": {
    "collapsed": false,
    "pycharm": {
     "name": "#%% md\n"
    }
   }
  }
 ],
 "metadata": {
  "kernelspec": {
   "display_name": "Python 3",
   "language": "python",
   "name": "python3"
  },
  "language_info": {
   "codemirror_mode": {
    "name": "ipython",
    "version": 2
   },
   "file_extension": ".py",
   "mimetype": "text/x-python",
   "name": "python",
   "nbconvert_exporter": "python",
   "pygments_lexer": "ipython2",
   "version": "2.7.6"
  }
 },
 "nbformat": 4,
 "nbformat_minor": 0
}